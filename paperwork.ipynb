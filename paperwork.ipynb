{
  "nbformat": 4,
  "nbformat_minor": 0,
  "metadata": {
    "colab": {
      "provenance": []
    },
    "kernelspec": {
      "name": "python3",
      "display_name": "Python 3"
    },
    "language_info": {
      "name": "python"
    }
  },
  "cells": [
    {
      "cell_type": "code",
      "metadata": {
        "colab": {
          "base_uri": "https://localhost:8080/"
        },
        "id": "ZgQXkbQKkjJj",
        "outputId": "72de9f6b-76ed-4fd8-9d2b-0d1fa5301a54"
      },
      "source": [
        "from google.colab import drive\n",
        "drive.mount(\"/content/drive\")"
      ],
      "execution_count": null,
      "outputs": [
        {
          "output_type": "stream",
          "name": "stdout",
          "text": [
            "Mounted at /content/drive\n"
          ]
        }
      ]
    },
    {
      "cell_type": "code",
      "metadata": {
        "colab": {
          "base_uri": "https://localhost:8080/"
        },
        "id": "phRXcD5llOAh",
        "outputId": "cc1ec488-1251-4d5a-932b-89099cc6651a"
      },
      "source": [
        "!ls \"/content/drive/My Drive\"\n"
      ],
      "execution_count": null,
      "outputs": [
        {
          "output_type": "stream",
          "name": "stdout",
          "text": [
            " 0e77b1ab-5df7-425b-bec2-ac2b9045f266.jpg\n",
            " 100D5200\n",
            "'CEI contacts.gsheet'\n",
            "'Colab Notebooks'\n",
            "'Copy of DSC_0359.JPG'\n",
            " Dance\n",
            " DSC_1064.JPG\n",
            " DSC_1117.JPG\n",
            "'Exercise 6.docx'\n",
            "'How to get started with Drive.pdf'\n",
            " IMG_0292.JPG\n",
            " IMG_0302.JPG\n",
            " IMG_6919.mov\n",
            " IMG_7567.MOV\n",
            " IMG_7571.MOV\n",
            " IMG_7607.MOV\n",
            " _MG_8689.JPG\n",
            "'Queue ADT '\n",
            " RPReplay_Final1577254438.mp4\n",
            " spectogrampix\n",
            " spectrogrampaper\n",
            "'Untitled document.gdoc'\n",
            "'Untitled spreadsheet.gsheet'\n",
            " video-output-62E49C2B-F4CD-4095-AEF2-EA5D2FE2CD53.MOV\n"
          ]
        }
      ]
    },
    {
      "cell_type": "code",
      "metadata": {
        "colab": {
          "base_uri": "https://localhost:8080/"
        },
        "id": "3cjIME_llQ_h",
        "outputId": "9d8c73b1-9f93-4047-fef4-0b2774f5839d"
      },
      "source": [
        "!ls \"/content/drive/My Drive/spectrogrampaper\""
      ],
      "execution_count": null,
      "outputs": [
        {
          "output_type": "stream",
          "name": "stdout",
          "text": [
            "'Segmented negative'  'Segmented positive'\n"
          ]
        }
      ]
    },
    {
      "cell_type": "code",
      "metadata": {
        "id": "03zfDLGmlYEz"
      },
      "source": [
        "path_dir = './drive/My Drive/spectrogrampaper'"
      ],
      "execution_count": null,
      "outputs": []
    },
    {
      "cell_type": "code",
      "metadata": {
        "colab": {
          "base_uri": "https://localhost:8080/"
        },
        "id": "ZVZAwt3umXVr",
        "outputId": "88e16a96-4e1c-475f-d596-0e195924562c"
      },
      "source": [
        "from keras.preprocessing.image import ImageDataGenerator\n",
        "datagen = ImageDataGenerator(rescale=1./255, validation_split = 0.2)\n",
        "train_generator = datagen.flow_from_directory(\n",
        "    path_dir,\n",
        "    target_size=(150,150),\n",
        "    shuffle=True,\n",
        "    subset='training'\n",
        ")\n",
        "validation_generator = datagen.flow_from_directory(\n",
        "    path_dir,\n",
        "    target_size=(150,150),\n",
        "    subset='validation'\n",
        ")"
      ],
      "execution_count": null,
      "outputs": [
        {
          "output_type": "stream",
          "name": "stdout",
          "text": [
            "Found 98 images belonging to 2 classes.\n",
            "Found 23 images belonging to 2 classes.\n"
          ]
        }
      ]
    },
    {
      "cell_type": "code",
      "metadata": {
        "id": "8bN4aLb2mYNn"
      },
      "source": [
        "import tensorflow as tf\n",
        "model = tf.keras.models.Sequential([\n",
        "    #first_convolution\n",
        "    tf.keras.layers.Conv2D(16, (3,3), activation='relu', input_shape=(150, 150, 3)),\n",
        "    tf.keras.layers.MaxPooling2D(2, 2),\n",
        "    #second_convolution\n",
        "    tf.keras.layers.Conv2D(32, (3,3), activation='relu'),\n",
        "    tf.keras.layers.MaxPooling2D(2,2),\n",
        "    #third_convolution\n",
        "    tf.keras.layers.Conv2D(64, (3,3), activation='relu'),\n",
        "    tf.keras.layers.MaxPooling2D(2,2),\n",
        "    #fourth_convolution\n",
        "    tf.keras.layers.Conv2D(64, (3,3), activation='relu'),\n",
        "    tf.keras.layers.MaxPooling2D(2,2),\n",
        "    tf.keras.layers.Flatten(),\n",
        "    tf.keras.layers.Dropout(0.5),\n",
        "    tf.keras.layers.Dense(256, activation='relu'),\n",
        "    tf.keras.layers.Dense(2, activation='softmax') \n",
        "]) "
      ],
      "execution_count": null,
      "outputs": []
    },
    {
      "cell_type": "code",
      "metadata": {
        "colab": {
          "base_uri": "https://localhost:8080/"
        },
        "id": "IJfTDOgrmecV",
        "outputId": "bba13ef2-6183-404c-9942-2c137b9decad"
      },
      "source": [
        "model.compile(loss='categorical_crossentropy', optimizer='adam', metrics=['accuracy'])\n",
        "history=model.fit(train_generator, batch_size=15,epochs=130)"
      ],
      "execution_count": null,
      "outputs": [
        {
          "output_type": "stream",
          "name": "stdout",
          "text": [
            "Epoch 1/130\n",
            "4/4 [==============================] - 3s 468ms/step - loss: 5.4159e-04 - accuracy: 1.0000\n",
            "Epoch 2/130\n",
            "4/4 [==============================] - 2s 466ms/step - loss: 0.0161 - accuracy: 0.9898\n",
            "Epoch 3/130\n",
            "4/4 [==============================] - 2s 723ms/step - loss: 0.0404 - accuracy: 0.9796\n",
            "Epoch 4/130\n",
            "4/4 [==============================] - 2s 475ms/step - loss: 0.0021 - accuracy: 1.0000\n",
            "Epoch 5/130\n",
            "4/4 [==============================] - 2s 474ms/step - loss: 3.2794e-04 - accuracy: 1.0000\n",
            "Epoch 6/130\n",
            "4/4 [==============================] - 2s 710ms/step - loss: 0.0173 - accuracy: 0.9898\n",
            "Epoch 7/130\n",
            "4/4 [==============================] - 2s 726ms/step - loss: 1.8789e-04 - accuracy: 1.0000\n",
            "Epoch 8/130\n",
            "4/4 [==============================] - 2s 734ms/step - loss: 0.0329 - accuracy: 0.9898\n",
            "Epoch 9/130\n",
            "4/4 [==============================] - 2s 517ms/step - loss: 2.4178e-04 - accuracy: 1.0000\n",
            "Epoch 10/130\n",
            "4/4 [==============================] - 2s 729ms/step - loss: 6.5654e-04 - accuracy: 1.0000\n",
            "Epoch 11/130\n",
            "4/4 [==============================] - 2s 472ms/step - loss: 0.0525 - accuracy: 0.9898\n",
            "Epoch 12/130\n",
            "4/4 [==============================] - 2s 723ms/step - loss: 0.0034 - accuracy: 1.0000\n",
            "Epoch 13/130\n",
            "4/4 [==============================] - 2s 507ms/step - loss: 0.1225 - accuracy: 0.9592\n",
            "Epoch 14/130\n",
            "4/4 [==============================] - 2s 723ms/step - loss: 0.0036 - accuracy: 1.0000\n",
            "Epoch 15/130\n",
            "4/4 [==============================] - 2s 471ms/step - loss: 1.0144e-04 - accuracy: 1.0000\n",
            "Epoch 16/130\n",
            "4/4 [==============================] - 2s 468ms/step - loss: 0.0121 - accuracy: 0.9898\n",
            "Epoch 17/130\n",
            "4/4 [==============================] - 2s 730ms/step - loss: 0.0013 - accuracy: 1.0000\n",
            "Epoch 18/130\n",
            "4/4 [==============================] - 2s 479ms/step - loss: 4.7764e-04 - accuracy: 1.0000\n",
            "Epoch 19/130\n",
            "4/4 [==============================] - 2s 472ms/step - loss: 5.3247e-05 - accuracy: 1.0000\n",
            "Epoch 20/130\n",
            "4/4 [==============================] - 2s 472ms/step - loss: 0.0083 - accuracy: 1.0000\n",
            "Epoch 21/130\n",
            "4/4 [==============================] - 2s 468ms/step - loss: 0.0011 - accuracy: 1.0000\n",
            "Epoch 22/130\n",
            "4/4 [==============================] - 2s 464ms/step - loss: 0.0269 - accuracy: 0.9898\n",
            "Epoch 23/130\n",
            "4/4 [==============================] - 2s 511ms/step - loss: 2.1442e-05 - accuracy: 1.0000\n",
            "Epoch 24/130\n",
            "4/4 [==============================] - 2s 514ms/step - loss: 1.5267e-04 - accuracy: 1.0000\n",
            "Epoch 25/130\n",
            "4/4 [==============================] - 2s 720ms/step - loss: 0.0038 - accuracy: 1.0000\n",
            "Epoch 26/130\n",
            "4/4 [==============================] - 2s 502ms/step - loss: 0.0190 - accuracy: 0.9898\n",
            "Epoch 27/130\n",
            "4/4 [==============================] - 2s 701ms/step - loss: 0.0229 - accuracy: 0.9898\n",
            "Epoch 28/130\n",
            "4/4 [==============================] - 2s 455ms/step - loss: 0.0054 - accuracy: 1.0000\n",
            "Epoch 29/130\n",
            "4/4 [==============================] - 2s 475ms/step - loss: 0.2373 - accuracy: 0.9592\n",
            "Epoch 30/130\n",
            "4/4 [==============================] - 2s 473ms/step - loss: 0.0026 - accuracy: 1.0000\n",
            "Epoch 31/130\n",
            "4/4 [==============================] - 2s 502ms/step - loss: 0.0122 - accuracy: 0.9898\n",
            "Epoch 32/130\n",
            "4/4 [==============================] - 2s 711ms/step - loss: 0.0220 - accuracy: 0.9898\n",
            "Epoch 33/130\n",
            "4/4 [==============================] - 2s 458ms/step - loss: 0.0029 - accuracy: 1.0000\n",
            "Epoch 34/130\n",
            "4/4 [==============================] - 2s 499ms/step - loss: 0.0100 - accuracy: 1.0000\n",
            "Epoch 35/130\n",
            "4/4 [==============================] - 2s 504ms/step - loss: 0.0024 - accuracy: 1.0000\n",
            "Epoch 36/130\n",
            "4/4 [==============================] - 2s 717ms/step - loss: 0.0037 - accuracy: 1.0000\n",
            "Epoch 37/130\n",
            "4/4 [==============================] - 2s 721ms/step - loss: 0.0095 - accuracy: 1.0000\n",
            "Epoch 38/130\n",
            "4/4 [==============================] - 2s 511ms/step - loss: 0.0033 - accuracy: 1.0000\n",
            "Epoch 39/130\n",
            "4/4 [==============================] - 2s 472ms/step - loss: 0.0396 - accuracy: 0.9898\n",
            "Epoch 40/130\n",
            "4/4 [==============================] - 2s 505ms/step - loss: 8.2051e-04 - accuracy: 1.0000\n",
            "Epoch 41/130\n",
            "4/4 [==============================] - 2s 719ms/step - loss: 2.3805e-04 - accuracy: 1.0000\n",
            "Epoch 42/130\n",
            "4/4 [==============================] - 2s 513ms/step - loss: 0.0552 - accuracy: 0.9898\n",
            "Epoch 43/130\n",
            "4/4 [==============================] - 2s 461ms/step - loss: 0.0099 - accuracy: 0.9898\n",
            "Epoch 44/130\n",
            "4/4 [==============================] - 2s 716ms/step - loss: 5.2778e-04 - accuracy: 1.0000\n",
            "Epoch 45/130\n",
            "4/4 [==============================] - 2s 724ms/step - loss: 1.3671e-04 - accuracy: 1.0000\n",
            "Epoch 46/130\n",
            "4/4 [==============================] - 2s 472ms/step - loss: 3.9194e-04 - accuracy: 1.0000\n",
            "Epoch 47/130\n",
            "4/4 [==============================] - 2s 463ms/step - loss: 0.0159 - accuracy: 0.9898\n",
            "Epoch 48/130\n",
            "4/4 [==============================] - 2s 474ms/step - loss: 0.0013 - accuracy: 1.0000\n",
            "Epoch 49/130\n",
            "4/4 [==============================] - 2s 470ms/step - loss: 0.0217 - accuracy: 0.9898\n",
            "Epoch 50/130\n",
            "4/4 [==============================] - 2s 499ms/step - loss: 0.0109 - accuracy: 1.0000\n",
            "Epoch 51/130\n",
            "4/4 [==============================] - 2s 732ms/step - loss: 0.0231 - accuracy: 0.9898\n",
            "Epoch 52/130\n",
            "4/4 [==============================] - 2s 469ms/step - loss: 0.0017 - accuracy: 1.0000\n",
            "Epoch 53/130\n",
            "4/4 [==============================] - 2s 482ms/step - loss: 0.0473 - accuracy: 0.9898\n",
            "Epoch 54/130\n",
            "4/4 [==============================] - 2s 504ms/step - loss: 0.0163 - accuracy: 0.9898\n",
            "Epoch 55/130\n",
            "4/4 [==============================] - 2s 709ms/step - loss: 6.5513e-04 - accuracy: 1.0000\n",
            "Epoch 56/130\n",
            "4/4 [==============================] - 2s 460ms/step - loss: 0.0024 - accuracy: 1.0000\n",
            "Epoch 57/130\n",
            "4/4 [==============================] - 2s 717ms/step - loss: 0.0092 - accuracy: 1.0000\n",
            "Epoch 58/130\n",
            "4/4 [==============================] - 2s 458ms/step - loss: 6.7975e-04 - accuracy: 1.0000\n",
            "Epoch 59/130\n",
            "4/4 [==============================] - 2s 469ms/step - loss: 0.0247 - accuracy: 0.9898\n",
            "Epoch 60/130\n",
            "4/4 [==============================] - 2s 475ms/step - loss: 0.0028 - accuracy: 1.0000\n",
            "Epoch 61/130\n",
            "4/4 [==============================] - 2s 512ms/step - loss: 0.0018 - accuracy: 1.0000\n",
            "Epoch 62/130\n",
            "4/4 [==============================] - 2s 509ms/step - loss: 0.0208 - accuracy: 0.9898\n",
            "Epoch 63/130\n",
            "4/4 [==============================] - 2s 485ms/step - loss: 1.1706e-04 - accuracy: 1.0000\n",
            "Epoch 64/130\n",
            "4/4 [==============================] - 2s 514ms/step - loss: 8.2973e-04 - accuracy: 1.0000\n",
            "Epoch 65/130\n",
            "4/4 [==============================] - 2s 719ms/step - loss: 6.7241e-04 - accuracy: 1.0000\n",
            "Epoch 66/130\n",
            "4/4 [==============================] - 2s 516ms/step - loss: 0.0097 - accuracy: 0.9898\n",
            "Epoch 67/130\n",
            "4/4 [==============================] - 2s 512ms/step - loss: 1.2025e-04 - accuracy: 1.0000\n",
            "Epoch 68/130\n",
            "4/4 [==============================] - 2s 480ms/step - loss: 4.3534e-04 - accuracy: 1.0000\n",
            "Epoch 69/130\n",
            "4/4 [==============================] - 2s 462ms/step - loss: 9.2549e-05 - accuracy: 1.0000\n",
            "Epoch 70/130\n",
            "4/4 [==============================] - 2s 509ms/step - loss: 0.0022 - accuracy: 1.0000\n",
            "Epoch 71/130\n",
            "4/4 [==============================] - 2s 481ms/step - loss: 1.4328e-04 - accuracy: 1.0000\n",
            "Epoch 72/130\n",
            "4/4 [==============================] - 2s 722ms/step - loss: 2.5246e-04 - accuracy: 1.0000\n",
            "Epoch 73/130\n",
            "4/4 [==============================] - 2s 460ms/step - loss: 6.1066e-05 - accuracy: 1.0000\n",
            "Epoch 74/130\n",
            "4/4 [==============================] - 2s 709ms/step - loss: 2.4674e-04 - accuracy: 1.0000\n",
            "Epoch 75/130\n",
            "4/4 [==============================] - 2s 463ms/step - loss: 0.0016 - accuracy: 1.0000\n",
            "Epoch 76/130\n",
            "4/4 [==============================] - 2s 465ms/step - loss: 1.4104e-04 - accuracy: 1.0000\n",
            "Epoch 77/130\n",
            "4/4 [==============================] - 2s 713ms/step - loss: 1.8672e-04 - accuracy: 1.0000\n",
            "Epoch 78/130\n",
            "4/4 [==============================] - 2s 723ms/step - loss: 2.7524e-04 - accuracy: 1.0000\n",
            "Epoch 79/130\n",
            "4/4 [==============================] - 2s 465ms/step - loss: 0.0019 - accuracy: 1.0000\n",
            "Epoch 80/130\n",
            "4/4 [==============================] - 2s 470ms/step - loss: 1.5418e-04 - accuracy: 1.0000\n",
            "Epoch 81/130\n",
            "4/4 [==============================] - 2s 469ms/step - loss: 0.0256 - accuracy: 0.9796\n",
            "Epoch 82/130\n",
            "4/4 [==============================] - 2s 462ms/step - loss: 9.9738e-05 - accuracy: 1.0000\n",
            "Epoch 83/130\n",
            "4/4 [==============================] - 2s 469ms/step - loss: 5.7128e-04 - accuracy: 1.0000\n",
            "Epoch 84/130\n",
            "4/4 [==============================] - 2s 502ms/step - loss: 1.2478e-04 - accuracy: 1.0000\n",
            "Epoch 85/130\n",
            "4/4 [==============================] - 2s 463ms/step - loss: 2.8270e-04 - accuracy: 1.0000\n",
            "Epoch 86/130\n",
            "4/4 [==============================] - 2s 710ms/step - loss: 0.0318 - accuracy: 0.9898\n",
            "Epoch 87/130\n",
            "4/4 [==============================] - 2s 466ms/step - loss: 0.0153 - accuracy: 0.9898\n",
            "Epoch 88/130\n",
            "4/4 [==============================] - 2s 506ms/step - loss: 0.0018 - accuracy: 1.0000\n",
            "Epoch 89/130\n",
            "4/4 [==============================] - 2s 513ms/step - loss: 0.0022 - accuracy: 1.0000\n",
            "Epoch 90/130\n",
            "4/4 [==============================] - 2s 468ms/step - loss: 0.0135 - accuracy: 0.9898\n",
            "Epoch 91/130\n",
            "4/4 [==============================] - 2s 480ms/step - loss: 2.6687e-04 - accuracy: 1.0000\n",
            "Epoch 92/130\n",
            "4/4 [==============================] - 2s 475ms/step - loss: 0.0376 - accuracy: 0.9898\n",
            "Epoch 93/130\n",
            "4/4 [==============================] - 2s 479ms/step - loss: 0.0739 - accuracy: 0.9694\n",
            "Epoch 94/130\n",
            "4/4 [==============================] - 2s 478ms/step - loss: 0.0294 - accuracy: 0.9898\n",
            "Epoch 95/130\n",
            "4/4 [==============================] - 2s 460ms/step - loss: 0.0016 - accuracy: 1.0000\n",
            "Epoch 96/130\n",
            "4/4 [==============================] - 2s 715ms/step - loss: 0.0014 - accuracy: 1.0000\n",
            "Epoch 97/130\n",
            "4/4 [==============================] - 2s 472ms/step - loss: 0.0261 - accuracy: 0.9898\n",
            "Epoch 98/130\n",
            "4/4 [==============================] - 2s 727ms/step - loss: 0.0048 - accuracy: 1.0000\n",
            "Epoch 99/130\n",
            "4/4 [==============================] - 2s 466ms/step - loss: 0.0485 - accuracy: 0.9796\n",
            "Epoch 100/130\n",
            "4/4 [==============================] - 2s 503ms/step - loss: 0.0058 - accuracy: 1.0000\n",
            "Epoch 101/130\n",
            "4/4 [==============================] - 2s 484ms/step - loss: 0.0013 - accuracy: 1.0000\n",
            "Epoch 102/130\n",
            "4/4 [==============================] - 2s 458ms/step - loss: 1.6071e-04 - accuracy: 1.0000\n",
            "Epoch 103/130\n",
            "4/4 [==============================] - 2s 519ms/step - loss: 2.0410e-04 - accuracy: 1.0000\n",
            "Epoch 104/130\n",
            "4/4 [==============================] - 2s 480ms/step - loss: 1.7534e-04 - accuracy: 1.0000\n",
            "Epoch 105/130\n",
            "4/4 [==============================] - 2s 750ms/step - loss: 4.7577e-04 - accuracy: 1.0000\n",
            "Epoch 106/130\n",
            "4/4 [==============================] - 2s 472ms/step - loss: 0.0039 - accuracy: 1.0000\n",
            "Epoch 107/130\n",
            "4/4 [==============================] - 2s 477ms/step - loss: 0.0051 - accuracy: 1.0000\n",
            "Epoch 108/130\n",
            "4/4 [==============================] - 2s 714ms/step - loss: 0.0319 - accuracy: 0.9796\n",
            "Epoch 109/130\n",
            "4/4 [==============================] - 2s 712ms/step - loss: 0.0037 - accuracy: 1.0000\n",
            "Epoch 110/130\n",
            "4/4 [==============================] - 2s 469ms/step - loss: 0.0064 - accuracy: 1.0000\n",
            "Epoch 111/130\n",
            "4/4 [==============================] - 2s 463ms/step - loss: 0.0023 - accuracy: 1.0000\n",
            "Epoch 112/130\n",
            "4/4 [==============================] - 2s 463ms/step - loss: 0.0013 - accuracy: 1.0000\n",
            "Epoch 113/130\n",
            "4/4 [==============================] - 2s 505ms/step - loss: 4.4250e-04 - accuracy: 1.0000\n",
            "Epoch 114/130\n",
            "4/4 [==============================] - 2s 469ms/step - loss: 0.0095 - accuracy: 0.9898\n",
            "Epoch 115/130\n",
            "4/4 [==============================] - 2s 464ms/step - loss: 2.6752e-05 - accuracy: 1.0000\n",
            "Epoch 116/130\n",
            "4/4 [==============================] - 2s 476ms/step - loss: 0.0019 - accuracy: 1.0000\n",
            "Epoch 117/130\n",
            "4/4 [==============================] - 2s 512ms/step - loss: 0.0042 - accuracy: 1.0000\n",
            "Epoch 118/130\n",
            "4/4 [==============================] - 2s 725ms/step - loss: 4.4793e-05 - accuracy: 1.0000\n",
            "Epoch 119/130\n",
            "4/4 [==============================] - 2s 719ms/step - loss: 1.0824e-05 - accuracy: 1.0000\n",
            "Epoch 120/130\n",
            "4/4 [==============================] - 2s 465ms/step - loss: 1.1192e-04 - accuracy: 1.0000\n",
            "Epoch 121/130\n",
            "4/4 [==============================] - 2s 722ms/step - loss: 1.4816e-04 - accuracy: 1.0000\n",
            "Epoch 122/130\n",
            "4/4 [==============================] - 2s 458ms/step - loss: 7.5540e-05 - accuracy: 1.0000\n",
            "Epoch 123/130\n",
            "4/4 [==============================] - 2s 462ms/step - loss: 2.3725e-05 - accuracy: 1.0000\n",
            "Epoch 124/130\n",
            "4/4 [==============================] - 2s 468ms/step - loss: 6.1585e-05 - accuracy: 1.0000\n",
            "Epoch 125/130\n",
            "4/4 [==============================] - 2s 730ms/step - loss: 1.8252e-04 - accuracy: 1.0000\n",
            "Epoch 126/130\n",
            "4/4 [==============================] - 2s 471ms/step - loss: 1.2799e-04 - accuracy: 1.0000\n",
            "Epoch 127/130\n",
            "4/4 [==============================] - 2s 712ms/step - loss: 8.8537e-06 - accuracy: 1.0000\n",
            "Epoch 128/130\n",
            "4/4 [==============================] - 2s 494ms/step - loss: 3.0246e-05 - accuracy: 1.0000\n",
            "Epoch 129/130\n",
            "4/4 [==============================] - 2s 517ms/step - loss: 0.0033 - accuracy: 1.0000\n",
            "Epoch 130/130\n",
            "4/4 [==============================] - 2s 476ms/step - loss: 6.7987e-05 - accuracy: 1.0000\n"
          ]
        }
      ]
    },
    {
      "cell_type": "code",
      "metadata": {
        "colab": {
          "base_uri": "https://localhost:8080/",
          "height": 478
        },
        "id": "Bz6wHwgxr7pH",
        "outputId": "9e212820-01a8-4843-a0ae-23d25899d746"
      },
      "source": [
        "import numpy as np \n",
        "import matplotlib.pyplot as plt\n",
        "from sklearn.metrics import confusion_matrix\n",
        "import seaborn as sns\n",
        "accuracy = model.evaluate(validation_generator)\n",
        "print('n', 'Test_Accuracy:-', accuracy[1])\n",
        "pred = model.predict(validation_generator)\n",
        "y_pred = np.argmax(pred, axis=1)\n",
        "y_true = np.argmax(pred, axis=1)\n",
        "print('confusion matrix')\n",
        "print(confusion_matrix(y_true, y_pred))\n",
        "    #confusion matrix\n",
        "f, ax = plt.subplots(figsize=(8,5))\n",
        "sns.heatmap(confusion_matrix(y_true, y_pred), annot=True, fmt=\".0f\", ax=ax)\n",
        "plt.xlabel(\"y_pred\")\n",
        "plt.ylabel(\"y_true\")\n",
        "plt.show()"
      ],
      "execution_count": null,
      "outputs": [
        {
          "output_type": "stream",
          "name": "stdout",
          "text": [
            "WARNING:tensorflow:5 out of the last 5 calls to <function Model.make_test_function.<locals>.test_function at 0x7fd3a62bfcb0> triggered tf.function retracing. Tracing is expensive and the excessive number of tracings could be due to (1) creating @tf.function repeatedly in a loop, (2) passing tensors with different shapes, (3) passing Python objects instead of tensors. For (1), please define your @tf.function outside of the loop. For (2), @tf.function has experimental_relax_shapes=True option that relaxes argument shapes that can avoid unnecessary retracing. For (3), please refer to https://www.tensorflow.org/guide/function#controlling_retracing and https://www.tensorflow.org/api_docs/python/tf/function for  more details.\n",
            "1/1 [==============================] - 0s 499ms/step - loss: 2.1689 - accuracy: 0.8261\n",
            "n Test_Accuracy:- 0.8260869383811951\n",
            "WARNING:tensorflow:5 out of the last 5 calls to <function Model.make_predict_function.<locals>.predict_function at 0x7fd3a6b8c4d0> triggered tf.function retracing. Tracing is expensive and the excessive number of tracings could be due to (1) creating @tf.function repeatedly in a loop, (2) passing tensors with different shapes, (3) passing Python objects instead of tensors. For (1), please define your @tf.function outside of the loop. For (2), @tf.function has experimental_relax_shapes=True option that relaxes argument shapes that can avoid unnecessary retracing. For (3), please refer to https://www.tensorflow.org/guide/function#controlling_retracing and https://www.tensorflow.org/api_docs/python/tf/function for  more details.\n",
            "confusion matrix\n",
            "[[14  0]\n",
            " [ 0  9]]\n"
          ]
        },
        {
          "output_type": "display_data",
          "data": {
            "image/png": "[encoded data removed]",
            "text/plain": [
              "<Figure size 576x360 with 2 Axes>"
            ]
          },
          "metadata": {
            "needs_background": "light"
          }
        }
      ]
    },
    {
      "cell_type": "code",
      "metadata": {
        "id": "QOzQAGvIsHPy",
        "colab": {
          "base_uri": "https://localhost:8080/",
          "height": 295
        },
        "outputId": "91befe7f-ca24-442f-a0b2-fcc601418365"
      },
      "source": [
        "loss =history.history['loss']\n",
        "epochs = range(1,131)\n",
        "plt.plot(epochs, loss, 'b', label='loss')\n",
        "plt.title('loss vs epochs')\n",
        "plt.xlabel('Epochs')\n",
        "plt.ylabel('Loss')\n",
        "plt.legend()\n",
        "plt.show()"
      ],
      "execution_count": null,
      "outputs": [
        {
          "output_type": "display_data",
          "data": {
            "image/png": "[encoded data removed]",
            "text/plain": [
              "<Figure size 432x288 with 1 Axes>"
            ]
          },
          "metadata": {
            "needs_background": "light"
          }
        }
      ]
    },
    {
      "cell_type": "code",
      "metadata": {
        "colab": {
          "base_uri": "https://localhost:8080/",
          "height": 295
        },
        "id": "J2xYm2Va-tN6",
        "outputId": "78fd5c0e-fb95-488c-ad1e-0925bd990d65"
      },
      "source": [
        "acc= history.history['accuracy']\n",
        "epochs = range(1,131)\n",
        "plt.plot(epochs,acc, 'b', label='accuracy')\n",
        "plt.title('epochs vs accuracy')\n",
        "plt.xlabel('Epochs')\n",
        "plt.ylabel('Accuracy')\n",
        "plt.legend()\n",
        "plt.show()"
      ],
      "execution_count": null,
      "outputs": [
        {
          "output_type": "display_data",
          "data": {
            "image/png": "[encoded data removed]",
            "text/plain": [
              "<Figure size 432x288 with 1 Axes>"
            ]
          },
          "metadata": {
            "needs_background": "light"
          }
        }
      ]
    }
  ]
}